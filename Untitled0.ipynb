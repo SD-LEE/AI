{
  "nbformat": 4,
  "nbformat_minor": 0,
  "metadata": {
    "colab": {
      "name": "Untitled0.ipynb",
      "provenance": [],
      "authorship_tag": "ABX9TyOnXMlmZwnn43tmzr1Ppr0n",
      "include_colab_link": true
    },
    "kernelspec": {
      "name": "python3",
      "display_name": "Python 3"
    }
  },
  "cells": [
    {
      "cell_type": "markdown",
      "metadata": {
        "id": "view-in-github",
        "colab_type": "text"
      },
      "source": [
        "<a href=\"https://colab.research.google.com/github/SD-LEE/AI/blob/master/Untitled0.ipynb\" target=\"_parent\"><img src=\"https://colab.research.google.com/assets/colab-badge.svg\" alt=\"Open In Colab\"/></a>"
      ]
    },
    {
      "cell_type": "markdown",
      "metadata": {
        "id": "qM_q8mz8Bsq6",
        "colab_type": "text"
      },
      "source": [
        "#광주 인공지능 사관학교 과제\n",
        "\n",
        "-----------------------------------------------------------\n",
        "##1주차\n",
        "\n",
        "###1.언어\n",
        "1.서비스명 : KB국민은행의 상담 챗봇 \"똑똑이\"서비스\n",
        "\n",
        "2.설명 : 기존 콜센터 업무 중 빈번하게 발생하는 질의에 대해 대응할 수 있도록 설계되어 금융서비스 이용 고객의 시간과 장소에 대한 제약 없이 금융서비스를 이용할 수 있는 챗봇\n",
        "\n",
        "3.적용기술 : NLU(Nature Languaege Understanding:자연어 이해)\n",
        "\n",
        "4.생각 : 통상적으로 언어 인공지능이라고 하면 챗봇이 가장 먼저 떠올리게 된다. 챗봇의 핵심은 사용자 대화의 의도를 파악하는 자연어 이해 기술이 중요하다고 생각되며 꼭 학습하고 싶은 마음이 든다.\n",
        "\n",
        "###2.음성\n",
        "\n",
        "1.서비스명 : 리드스피커의 \"보이스랩(voiceLab)\"\n",
        "\n",
        "2.설명 : 기존 음성합성기에 인공지능 기술을 적용해 음질은 한층 더 높이고 음성합성기의 개발기간을 단축시고 인공지능이 전체 음성에 적합한 음소를 찾아서 이어 붙이는 합성기 \n",
        "\n",
        "3.적용기술 : 심층신경망(DNN), HQ, Micro(Auto DB)\n",
        "\n",
        "4.생각 : 음성합성기의 최종 목표는 인간을 닮은 목소리를 구현하고 음성을 합성해 나가는 것인데 인공지능을 배우는 기초단계에서 생소한 적용기술과 용어들을 이해하는데 어려워 참고사례로만 활용할 것이다. \n",
        "\n",
        "###3.이미지\n",
        "\n",
        "1.서비스명 : 미국의 스타트업 기업 엔트러피 \"명품 인공지능 스캐너\"\n",
        "\n",
        "2.설명 : 명품을 실시간으로 판별해주는 인공지능 스캐너이며 가방 신발 등 명품 제품의 표면을 사진으로 찍으면 300만장의 사진을 학습한 AI가 이미지를 분석하여 진품 여부를 판별해 주는 서비스\n",
        "\n",
        "3.적용기술 : CNN(convolutional neural network)\n",
        "\n",
        "4.생각 : 가장 상업적이며 성공할 것 같다 생각한 서비스로 아이디어가 참신했으며 일반적인 이미지 인식은 이미지 정보의 복잡성 때문에 훨씬 복잡한 모델을 필요로 하기에 CNN(convolutional neural network)과 같은 딥러닝 알고리즘이 실제 이미지 인식 분류 작업에 꼭 필요한 것이라고 하니 접해보고 싶다.\n",
        "\n",
        "###4.자율주행\n",
        "\n",
        "1.서비스명 : \n",
        "\n",
        "2.설명 : \n",
        "\n",
        "3.적용기술 :\n",
        "\n",
        "4.생각 :\n",
        "\n"
      ]
    }
  ]
}